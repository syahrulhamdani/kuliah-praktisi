{
 "cells": [
  {
   "cell_type": "markdown",
   "id": "8468a7ef-a2e2-4d0f-aa0b-5f7ffbf31782",
   "metadata": {},
   "source": [
    "# LSTM for Text Classification\n",
    "\n",
    "Di notebook ini, kita akan berkenalan dengan salah satu arsitektur *neural networks* yang sering digunakan untuk data sekuensial, yaitu **Long Short-Term Memory (LSTM)**."
   ]
  },
  {
   "cell_type": "markdown",
   "id": "ced645b4-255f-46be-85ec-70b4dd113641",
   "metadata": {},
   "source": [
    "## Agenda\n",
    "\n",
    "Agenda kita hari ini:\n",
    "* LSTM dengan PyTorch\n",
    "* Bagaimana cara kerja LSTM"
   ]
  },
  {
   "cell_type": "code",
   "execution_count": null,
   "id": "6afa7e14-08a6-4d37-a57a-6f72873146e0",
   "metadata": {
    "tags": []
   },
   "outputs": [],
   "source": [
    "import re\n",
    "from collections import Counter\n",
    "from pathlib import Path\n",
    "from string import punctuation\n",
    "\n",
    "import numpy as np\n",
    "import pandas as pd\n",
    "import torch\n",
    "\n",
    "pd.set_option(\"display.max_colwidth\", 0)"
   ]
  },
  {
   "cell_type": "markdown",
   "id": "e761f484-1ed2-499d-aa65-e3ec947ffa94",
   "metadata": {},
   "source": [
    "## Datasets"
   ]
  },
  {
   "cell_type": "code",
   "execution_count": null,
   "id": "3ebea593-116a-4284-8f9c-077e0ca71479",
   "metadata": {
    "tags": []
   },
   "outputs": [],
   "source": [
    "DATA_DIR = Path(\"data/news-article\")\n",
    "DATA_FILEPATH = DATA_DIR / \"news.csv\""
   ]
  },
  {
   "cell_type": "code",
   "execution_count": null,
   "id": "5b3ce755-76ed-445f-9b0d-5d164988762d",
   "metadata": {
    "tags": []
   },
   "outputs": [],
   "source": [
    "df_news = pd.read_csv(DATA_FILEPATH)\n",
    "df_news = df_news[~df_news[\"class\"].isin([\"international_film_tv\"])]"
   ]
  },
  {
   "cell_type": "code",
   "execution_count": null,
   "id": "54939c0f-3cc5-42b2-aa15-3a18c05b385f",
   "metadata": {
    "tags": []
   },
   "outputs": [],
   "source": [
    "df_news.sample(5)"
   ]
  },
  {
   "cell_type": "markdown",
   "id": "22535042-3b96-4ed8-a9da-00735eded468",
   "metadata": {},
   "source": [
    "## Data Preprocessing"
   ]
  },
  {
   "cell_type": "code",
   "execution_count": null,
   "id": "5ceadf3e-0db9-4b0f-9cb1-1a828b53d235",
   "metadata": {
    "tags": []
   },
   "outputs": [],
   "source": [
    "def lowerize(df):\n",
    "    df[\"full_text\"] = df[\"full_text\"].str.lower()\n",
    "    return df\n",
    "\n",
    "\n",
    "def remove_punctuation(df):\n",
    "    df[\"full_text\"] = df[\"full_text\"].apply(\n",
    "        lambda excerpt: \"\".join([char for char in excerpt if char not in punctuation])\n",
    "    )\n",
    "    return df\n",
    "\n",
    "\n",
    "def remove_digits(df):\n",
    "    df[\"full_text\"] = df[\"full_text\"].apply(\n",
    "        lambda excerpt: re.sub(r\"\\b\\d+\\b\", \"\", excerpt)\n",
    "    )\n",
    "    return df\n",
    "\n",
    "\n",
    "df_news = df_news.pipe(lowerize).pipe(remove_punctuation).pipe(remove_digits)"
   ]
  },
  {
   "cell_type": "code",
   "execution_count": null,
   "id": "eb97701a-10fd-4879-ba78-f2d12b0290ff",
   "metadata": {
    "tags": []
   },
   "outputs": [],
   "source": [
    "df_news.sample(5)"
   ]
  },
  {
   "cell_type": "code",
   "execution_count": null,
   "id": "ff7033ca-d8b0-4619-b770-f46fae9b986f",
   "metadata": {
    "tags": []
   },
   "outputs": [],
   "source": [
    "# create dict vocab\n",
    "count = Counter(\" \".join(df_news[\"full_text\"].tolist()).split())\n",
    "vocab = sorted(count, key=count.get, reverse=False)\n",
    "vocab_to_int = {word: i for i, word in enumerate(vocab, 1)}\n",
    "int_to_vocab = {i: word for word, i in vocab_to_int.items()}\n",
    "print(\"Number of vocab:\", len(vocab))\n",
    "\n",
    "# tokenize\n",
    "news_tokens = []\n",
    "for news in df_news[\"full_text\"]:\n",
    "    news_tokens.append([vocab_to_int[word] for word in news.split()])"
   ]
  },
  {
   "cell_type": "code",
   "execution_count": null,
   "id": "822e3a4a-8753-42b7-8237-7d1d0af207d5",
   "metadata": {},
   "outputs": [],
   "source": [
    "df_news.loc[1, \"full_text\"]"
   ]
  },
  {
   "cell_type": "code",
   "execution_count": null,
   "id": "b5fd7780-0222-4d04-b22d-9fd689ebd87e",
   "metadata": {
    "tags": []
   },
   "outputs": [],
   "source": [
    "print(news_tokens[1])"
   ]
  },
  {
   "cell_type": "code",
   "execution_count": null,
   "id": "b805e75d-6227-42d4-854c-8423c7237bba",
   "metadata": {
    "tags": []
   },
   "outputs": [],
   "source": [
    "\" \".join([int_to_vocab[token] for token in news_tokens[1]])"
   ]
  },
  {
   "cell_type": "code",
   "execution_count": null,
   "id": "e83beeb8-1274-4b86-9c91-3b35e7d4ce36",
   "metadata": {},
   "outputs": [],
   "source": []
  }
 ],
 "metadata": {
  "kernelspec": {
   "display_name": "Python 3 (ipykernel)",
   "language": "python",
   "name": "python3"
  },
  "language_info": {
   "codemirror_mode": {
    "name": "ipython",
    "version": 3
   },
   "file_extension": ".py",
   "mimetype": "text/x-python",
   "name": "python",
   "nbconvert_exporter": "python",
   "pygments_lexer": "ipython3",
   "version": "3.9.12"
  }
 },
 "nbformat": 4,
 "nbformat_minor": 5
}
